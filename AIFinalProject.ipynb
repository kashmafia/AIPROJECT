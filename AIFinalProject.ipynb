{
  "nbformat": 4,
  "nbformat_minor": 0,
  "metadata": {
    "colab": {
      "name": "AIFinalProject.ipynb",
      "provenance": [],
      "collapsed_sections": [],
      "include_colab_link": true
    },
    "kernelspec": {
      "name": "python3",
      "display_name": "Python 3"
    },
    "language_info": {
      "name": "python"
    }
  },
  "cells": [
    {
      "cell_type": "markdown",
      "metadata": {
        "id": "view-in-github",
        "colab_type": "text"
      },
      "source": [
        "<a href=\"https://colab.research.google.com/github/kashmafia/STROKE-PREDICTION/blob/main/AIFinalProject.ipynb\" target=\"_parent\"><img src=\"https://colab.research.google.com/assets/colab-badge.svg\" alt=\"Open In Colab\"/></a>"
      ]
    },
    {
      "cell_type": "markdown",
      "metadata": {
        "id": "Mty3JVo4TFRm"
      },
      "source": [
        "## **Stroke Prediction: A Classification Problem**"
      ]
    },
    {
      "cell_type": "markdown",
      "metadata": {
        "id": "kdGeLskrTUIn"
      },
      "source": [
        "# Setup"
      ]
    },
    {
      "cell_type": "markdown",
      "metadata": {
        "id": "z8BzBSubTuVs"
      },
      "source": [
        "Import Libraries"
      ]
    },
    {
      "cell_type": "code",
      "metadata": {
        "id": "j7Upwu7P9g7b"
      },
      "source": [
        "import io\n",
        "import time\n",
        "import pandas as pd\n",
        "import numpy as np\n",
        "import seaborn as sns\n",
        "import matplotlib.pyplot as plt\n",
        "from sklearn.model_selection import train_test_split\n",
        "from sklearn.model_selection import cross_val_score\n",
        "from sklearn.svm import SVC\n",
        "from sklearn.neighbors import KNeighborsClassifier\n",
        "from sklearn.neural_network import MLPClassifier\n",
        "from sklearn.metrics import confusion_matrix\n",
        "from sklearn.metrics import accuracy_score"
      ],
      "execution_count": null,
      "outputs": []
    },
    {
      "cell_type": "markdown",
      "metadata": {
        "id": "ZPrt0z_lTw5_"
      },
      "source": [
        "Define Functions"
      ]
    },
    {
      "cell_type": "code",
      "metadata": {
        "id": "jPnLWYQJT1zm"
      },
      "source": [
        "#define functions\n",
        "def conf_matr(y_test, y_pred):\n",
        "  cm = confusion_matrix(y_test, y_pred).ravel()\n",
        "  TN, FP, FN, TP = cm\n",
        "  return f'True Negatives: {TN}; True Positives: {TP};\\nFalse Negatives: {FN}; False Positives: {FP}'"
      ],
      "execution_count": null,
      "outputs": []
    },
    {
      "cell_type": "markdown",
      "metadata": {
        "id": "lTvyc6izTf9z"
      },
      "source": [
        "# Data Management"
      ]
    },
    {
      "cell_type": "code",
      "metadata": {
        "id": "17EC_1ET0l0t"
      },
      "source": [
        "stroke = pd.read_csv('healthcare-dataset-stroke-data.csv')\n",
        "# Dataset is now stored in a Pandas Dataframe"
      ],
      "execution_count": null,
      "outputs": []
    },
    {
      "cell_type": "code",
      "metadata": {
        "id": "0tyPEs6T1xnJ"
      },
      "source": [
        "strokes = stroke.drop('id', axis=1)\n",
        "# Drop the ID column"
      ],
      "execution_count": null,
      "outputs": []
    },
    {
      "cell_type": "code",
      "metadata": {
        "colab": {
          "base_uri": "https://localhost:8080/",
          "height": 204
        },
        "id": "F8g9lPu715co",
        "outputId": "a7683ee5-1771-4b28-c62b-593a0a62a93d"
      },
      "source": [
        "strokes.head()"
      ],
      "execution_count": null,
      "outputs": [
        {
          "output_type": "execute_result",
          "data": {
            "text/html": [
              "<div>\n",
              "<style scoped>\n",
              "    .dataframe tbody tr th:only-of-type {\n",
              "        vertical-align: middle;\n",
              "    }\n",
              "\n",
              "    .dataframe tbody tr th {\n",
              "        vertical-align: top;\n",
              "    }\n",
              "\n",
              "    .dataframe thead th {\n",
              "        text-align: right;\n",
              "    }\n",
              "</style>\n",
              "<table border=\"1\" class=\"dataframe\">\n",
              "  <thead>\n",
              "    <tr style=\"text-align: right;\">\n",
              "      <th></th>\n",
              "      <th>gender</th>\n",
              "      <th>age</th>\n",
              "      <th>hypertension</th>\n",
              "      <th>heart_disease</th>\n",
              "      <th>ever_married</th>\n",
              "      <th>work_type</th>\n",
              "      <th>Residence_type</th>\n",
              "      <th>avg_glucose_level</th>\n",
              "      <th>bmi</th>\n",
              "      <th>smoking_status</th>\n",
              "      <th>stroke</th>\n",
              "    </tr>\n",
              "  </thead>\n",
              "  <tbody>\n",
              "    <tr>\n",
              "      <th>0</th>\n",
              "      <td>Male</td>\n",
              "      <td>67.0</td>\n",
              "      <td>0</td>\n",
              "      <td>1</td>\n",
              "      <td>Yes</td>\n",
              "      <td>Private</td>\n",
              "      <td>Urban</td>\n",
              "      <td>228.69</td>\n",
              "      <td>36.6</td>\n",
              "      <td>formerly smoked</td>\n",
              "      <td>1</td>\n",
              "    </tr>\n",
              "    <tr>\n",
              "      <th>1</th>\n",
              "      <td>Female</td>\n",
              "      <td>61.0</td>\n",
              "      <td>0</td>\n",
              "      <td>0</td>\n",
              "      <td>Yes</td>\n",
              "      <td>Self-employed</td>\n",
              "      <td>Rural</td>\n",
              "      <td>202.21</td>\n",
              "      <td>NaN</td>\n",
              "      <td>never smoked</td>\n",
              "      <td>1</td>\n",
              "    </tr>\n",
              "    <tr>\n",
              "      <th>2</th>\n",
              "      <td>Male</td>\n",
              "      <td>80.0</td>\n",
              "      <td>0</td>\n",
              "      <td>1</td>\n",
              "      <td>Yes</td>\n",
              "      <td>Private</td>\n",
              "      <td>Rural</td>\n",
              "      <td>105.92</td>\n",
              "      <td>32.5</td>\n",
              "      <td>never smoked</td>\n",
              "      <td>1</td>\n",
              "    </tr>\n",
              "    <tr>\n",
              "      <th>3</th>\n",
              "      <td>Female</td>\n",
              "      <td>49.0</td>\n",
              "      <td>0</td>\n",
              "      <td>0</td>\n",
              "      <td>Yes</td>\n",
              "      <td>Private</td>\n",
              "      <td>Urban</td>\n",
              "      <td>171.23</td>\n",
              "      <td>34.4</td>\n",
              "      <td>smokes</td>\n",
              "      <td>1</td>\n",
              "    </tr>\n",
              "    <tr>\n",
              "      <th>4</th>\n",
              "      <td>Female</td>\n",
              "      <td>79.0</td>\n",
              "      <td>1</td>\n",
              "      <td>0</td>\n",
              "      <td>Yes</td>\n",
              "      <td>Self-employed</td>\n",
              "      <td>Rural</td>\n",
              "      <td>174.12</td>\n",
              "      <td>24.0</td>\n",
              "      <td>never smoked</td>\n",
              "      <td>1</td>\n",
              "    </tr>\n",
              "  </tbody>\n",
              "</table>\n",
              "</div>"
            ],
            "text/plain": [
              "   gender   age  hypertension  ...   bmi   smoking_status stroke\n",
              "0    Male  67.0             0  ...  36.6  formerly smoked      1\n",
              "1  Female  61.0             0  ...   NaN     never smoked      1\n",
              "2    Male  80.0             0  ...  32.5     never smoked      1\n",
              "3  Female  49.0             0  ...  34.4           smokes      1\n",
              "4  Female  79.0             1  ...  24.0     never smoked      1\n",
              "\n",
              "[5 rows x 11 columns]"
            ]
          },
          "metadata": {
            "tags": []
          },
          "execution_count": 10
        }
      ]
    },
    {
      "cell_type": "code",
      "metadata": {
        "colab": {
          "base_uri": "https://localhost:8080/",
          "height": 204
        },
        "id": "Mu5zbV4m2ETK",
        "outputId": "1ef9400c-1489-4c92-e4e9-3f6288b4cd11"
      },
      "source": [
        "strokes['bmi'].fillna(strokes['bmi'].mean(), inplace = True)\n",
        "# Fill in null bmi with the mean value of the others\n",
        "\n",
        "strokes = pd.get_dummies(strokes, columns=['ever_married'], drop_first=True)\n",
        "strokes.replace(to_replace=['Male', 'Female', 'Other', 'never smoked', 'formerly smoked', 'smokes', 'Unknown', 'Urban', 'Rural', 'Private', 'Self-employed', 'Govt_job', 'children', 'Never_worked'], value=[0, 1, 2, 0, 1, 2, 3, 0, 1, 0, 1, 2, 3, 4], inplace = True)\n",
        "#Replaced strings for clarity:\n",
        "#Gender: Male=0, Female=1, Other=2\n",
        "#Smoking Status: Never Smoked=0, Formerly Smoked=1, Smokes=2, Unknown=3\n",
        "#Residence Type: Urban=0, Rural=1\n",
        "#Work Type: Private=0, Self-employed=1, Govt_job=2, children=3, Never_worked=4\n",
        "strokes.head()"
      ],
      "execution_count": null,
      "outputs": [
        {
          "output_type": "execute_result",
          "data": {
            "text/html": [
              "<div>\n",
              "<style scoped>\n",
              "    .dataframe tbody tr th:only-of-type {\n",
              "        vertical-align: middle;\n",
              "    }\n",
              "\n",
              "    .dataframe tbody tr th {\n",
              "        vertical-align: top;\n",
              "    }\n",
              "\n",
              "    .dataframe thead th {\n",
              "        text-align: right;\n",
              "    }\n",
              "</style>\n",
              "<table border=\"1\" class=\"dataframe\">\n",
              "  <thead>\n",
              "    <tr style=\"text-align: right;\">\n",
              "      <th></th>\n",
              "      <th>gender</th>\n",
              "      <th>age</th>\n",
              "      <th>hypertension</th>\n",
              "      <th>heart_disease</th>\n",
              "      <th>work_type</th>\n",
              "      <th>Residence_type</th>\n",
              "      <th>avg_glucose_level</th>\n",
              "      <th>bmi</th>\n",
              "      <th>smoking_status</th>\n",
              "      <th>stroke</th>\n",
              "      <th>ever_married_Yes</th>\n",
              "    </tr>\n",
              "  </thead>\n",
              "  <tbody>\n",
              "    <tr>\n",
              "      <th>0</th>\n",
              "      <td>0</td>\n",
              "      <td>67.0</td>\n",
              "      <td>0</td>\n",
              "      <td>1</td>\n",
              "      <td>0</td>\n",
              "      <td>0</td>\n",
              "      <td>228.69</td>\n",
              "      <td>36.600000</td>\n",
              "      <td>1</td>\n",
              "      <td>1</td>\n",
              "      <td>1</td>\n",
              "    </tr>\n",
              "    <tr>\n",
              "      <th>1</th>\n",
              "      <td>1</td>\n",
              "      <td>61.0</td>\n",
              "      <td>0</td>\n",
              "      <td>0</td>\n",
              "      <td>1</td>\n",
              "      <td>1</td>\n",
              "      <td>202.21</td>\n",
              "      <td>28.893237</td>\n",
              "      <td>0</td>\n",
              "      <td>1</td>\n",
              "      <td>1</td>\n",
              "    </tr>\n",
              "    <tr>\n",
              "      <th>2</th>\n",
              "      <td>0</td>\n",
              "      <td>80.0</td>\n",
              "      <td>0</td>\n",
              "      <td>1</td>\n",
              "      <td>0</td>\n",
              "      <td>1</td>\n",
              "      <td>105.92</td>\n",
              "      <td>32.500000</td>\n",
              "      <td>0</td>\n",
              "      <td>1</td>\n",
              "      <td>1</td>\n",
              "    </tr>\n",
              "    <tr>\n",
              "      <th>3</th>\n",
              "      <td>1</td>\n",
              "      <td>49.0</td>\n",
              "      <td>0</td>\n",
              "      <td>0</td>\n",
              "      <td>0</td>\n",
              "      <td>0</td>\n",
              "      <td>171.23</td>\n",
              "      <td>34.400000</td>\n",
              "      <td>2</td>\n",
              "      <td>1</td>\n",
              "      <td>1</td>\n",
              "    </tr>\n",
              "    <tr>\n",
              "      <th>4</th>\n",
              "      <td>1</td>\n",
              "      <td>79.0</td>\n",
              "      <td>1</td>\n",
              "      <td>0</td>\n",
              "      <td>1</td>\n",
              "      <td>1</td>\n",
              "      <td>174.12</td>\n",
              "      <td>24.000000</td>\n",
              "      <td>0</td>\n",
              "      <td>1</td>\n",
              "      <td>1</td>\n",
              "    </tr>\n",
              "  </tbody>\n",
              "</table>\n",
              "</div>"
            ],
            "text/plain": [
              "   gender   age  hypertension  ...  smoking_status  stroke  ever_married_Yes\n",
              "0       0  67.0             0  ...               1       1                 1\n",
              "1       1  61.0             0  ...               0       1                 1\n",
              "2       0  80.0             0  ...               0       1                 1\n",
              "3       1  49.0             0  ...               2       1                 1\n",
              "4       1  79.0             1  ...               0       1                 1\n",
              "\n",
              "[5 rows x 11 columns]"
            ]
          },
          "metadata": {
            "tags": []
          },
          "execution_count": 11
        }
      ]
    },
    {
      "cell_type": "code",
      "metadata": {
        "id": "qEpdNwUC2YLN",
        "colab": {
          "base_uri": "https://localhost:8080/"
        },
        "outputId": "30ad8f70-a9b5-4025-c011-334253d1f74a"
      },
      "source": [
        "# Splitting dataset into train and test data\n",
        "strokes_y = strokes[['stroke']]\n",
        "del strokes['stroke']\n",
        "x_train, x_test, y_train, y_test = train_test_split(strokes, strokes_y, test_size=0.2, shuffle=True)\n",
        "print(strokes_y)"
      ],
      "execution_count": null,
      "outputs": [
        {
          "output_type": "stream",
          "text": [
            "      stroke\n",
            "0          1\n",
            "1          1\n",
            "2          1\n",
            "3          1\n",
            "4          1\n",
            "...      ...\n",
            "5105       0\n",
            "5106       0\n",
            "5107       0\n",
            "5108       0\n",
            "5109       0\n",
            "\n",
            "[5110 rows x 1 columns]\n"
          ],
          "name": "stdout"
        }
      ]
    },
    {
      "cell_type": "markdown",
      "metadata": {
        "id": "IiGordyDUHbU"
      },
      "source": [
        "# Support Vector Machine"
      ]
    },
    {
      "cell_type": "markdown",
      "metadata": {
        "id": "VhSR-BstUVpw"
      },
      "source": [
        "Define Hyperparameters"
      ]
    },
    {
      "cell_type": "code",
      "metadata": {
        "id": "A3EC-sEYUUoy"
      },
      "source": [
        "#Create dictionary for differeny hyperparameters\n",
        "param_dict = { #For SVM, determine which kernel to use\n",
        "    1: 'linear', #linear kernel takes considerably longer than other kernels\n",
        "    2: 'poly',\n",
        "    3: 'rbf',\n",
        "    4: 'sigmoid'\n",
        "}\n",
        "\n",
        "#fix shape of target data to resolve warnings\n",
        "y_train_temp = y_train.values.ravel()\n",
        "y_test_temp = y_test.values.ravel()"
      ],
      "execution_count": null,
      "outputs": []
    },
    {
      "cell_type": "markdown",
      "metadata": {
        "id": "bsQ-qExLUYLl"
      },
      "source": [
        "Test Algorithm"
      ]
    },
    {
      "cell_type": "code",
      "metadata": {
        "colab": {
          "base_uri": "https://localhost:8080/"
        },
        "id": "pDdo9tDy2654",
        "outputId": "19b78551-e350-46d9-ecfe-313ddd0e3fb4"
      },
      "source": [
        "#Loops through different hyperparameters\n",
        "\n",
        "#Keep track of scores\n",
        "svm_scores = np.empty(4)\n",
        "svm_times = np.empty(4)\n",
        "\n",
        "#loop through hyperparams\n",
        "for param in param_dict:\n",
        "  #start process timer\n",
        "  t0 = time.process_time()\n",
        "  #create model\n",
        "  classifier = SVC(kernel = param_dict.get(param))\n",
        "  #fit model\n",
        "  classifier.fit(x_train, y_train_temp)\n",
        "  #use model to predict\n",
        "  y_pred = classifier.predict(x_test)\n",
        "  #end process timer\n",
        "  t1 = time.process_time()\n",
        "  #time taken to complete algorithm\n",
        "  total_time = t1 - t0\n",
        "  svm_times[param-1] = round(total_time, 4)\n",
        "  #cross validate\n",
        "  cv = cross_val_score(classifier, x_train, y_train_temp, cv=5)\n",
        "  cv_score = np.sum(cv)/5\n",
        "  #results\n",
        "  print(f'SVM USING \"{param_dict.get(param)}\" KERNEL')\n",
        "  print(f'Process Time: {total_time}')\n",
        "  acc = accuracy_score(y_test_temp, y_pred)\n",
        "  svm_scores[param-1] = round(acc*100,2)\n",
        "  print(f'Cross Validation score: {cv_score}')\n",
        "  print(f'Accuracy on test set: {acc}')\n",
        "  cm_score = conf_matr(y_test, y_pred)\n",
        "  print(f'Confusion Matrix:\\n{cm_score}')\n",
        "  print()"
      ],
      "execution_count": null,
      "outputs": [
        {
          "output_type": "stream",
          "text": [
            "SVM USING \"linear\" KERNEL\n",
            "Process Time: 70.74496062599997\n",
            "Cross Validation score: 0.9513211014116288\n",
            "Accuracy on test set: 0.9510763209393346\n",
            "Confusion Matrix:\n",
            "True Negatives: 972; True Positives: 0;\n",
            "False Negatives: 50; False Positives: 0\n",
            "\n",
            "SVM USING \"poly\" KERNEL\n",
            "Process Time: 0.4027930600000218\n",
            "Cross Validation score: 0.9513211014116288\n",
            "Accuracy on test set: 0.9510763209393346\n",
            "Confusion Matrix:\n",
            "True Negatives: 972; True Positives: 0;\n",
            "False Negatives: 50; False Positives: 0\n",
            "\n",
            "SVM USING \"rbf\" KERNEL\n",
            "Process Time: 0.13589478800008692\n",
            "Cross Validation score: 0.9513211014116288\n",
            "Accuracy on test set: 0.9510763209393346\n",
            "Confusion Matrix:\n",
            "True Negatives: 972; True Positives: 0;\n",
            "False Negatives: 50; False Positives: 0\n",
            "\n",
            "SVM USING \"sigmoid\" KERNEL\n",
            "Process Time: 0.1403722340000968\n",
            "Cross Validation score: 0.9513211014116288\n",
            "Accuracy on test set: 0.9510763209393346\n",
            "Confusion Matrix:\n",
            "True Negatives: 972; True Positives: 0;\n",
            "False Negatives: 50; False Positives: 0\n",
            "\n"
          ],
          "name": "stdout"
        }
      ]
    },
    {
      "cell_type": "markdown",
      "metadata": {
        "id": "VlvHjAiaUbPW"
      },
      "source": [
        "# K-Nearest Neighbors"
      ]
    },
    {
      "cell_type": "markdown",
      "metadata": {
        "id": "6-RpPBJnUsxF"
      },
      "source": [
        "Define Hyperparameters"
      ]
    },
    {
      "cell_type": "code",
      "metadata": {
        "id": "ffCUOZOgTEDu"
      },
      "source": [
        "param_dict = {\n",
        "    1: [3, 'minkowski'], #3 neighbors, minkowski metric for distance\n",
        "    2: [5, 'minkowski'], #5 neighbors, minkowski metric for distance\n",
        "    3: [3, 'euclidean'], #3 neighbors, euclidean metric for distance\n",
        "    4: [5, 'euclidean'], #5 neighbors, euclidean metric for distance\n",
        "    5: [3, 'chebyshev'], #3 neighbors, chebyshev metric for distance\n",
        "    6: [5, 'chebyshev'] # 5 neighbors, chebyshev metric for distance\n",
        "}"
      ],
      "execution_count": null,
      "outputs": []
    },
    {
      "cell_type": "markdown",
      "metadata": {
        "id": "IDU7UPtTW49P"
      },
      "source": [
        "Test Algorithm"
      ]
    },
    {
      "cell_type": "code",
      "metadata": {
        "colab": {
          "base_uri": "https://localhost:8080/"
        },
        "id": "229SMCKtW4Td",
        "outputId": "44a35fd6-3bf1-4c50-917e-8cba8962b33c"
      },
      "source": [
        "#Keep track of scores\n",
        "knn_scores = np.empty(6)\n",
        "knn_times = np.empty(6)\n",
        "\n",
        "#loop through hyperparams\n",
        "for param in param_dict:\n",
        "  #start process timer\n",
        "  t0 = time.process_time()\n",
        "  #create model\n",
        "  classifier = KNeighborsClassifier(n_neighbors=param_dict.get(param)[0], metric=param_dict.get(param)[1])\n",
        "  #fit model\n",
        "  classifier.fit(x_train, y_train_temp)\n",
        "  #use model to predict\n",
        "  y_pred = classifier.predict(x_test)\n",
        "  #end process timer\n",
        "  t1 = time.process_time()\n",
        "  #time taken to complete algorithm\n",
        "  total_time = t1 - t0\n",
        "  knn_times[param-1] = round(total_time, 4)\n",
        "  #cross validate\n",
        "  cv = cross_val_score(classifier, x_train, y_train_temp, cv=5)\n",
        "  cv_score = np.sum(cv)/5\n",
        "  #results\n",
        "  print(f'SVM USING \"{param_dict.get(param)[1]}\" KERNEL')\n",
        "  print(f'Process Time: {total_time}')\n",
        "  acc = accuracy_score(y_test_temp, y_pred)\n",
        "  knn_scores[param-1] = round(acc*100,2)\n",
        "  print(f'Cross Validation score: {cv_score}')\n",
        "  print(f'Accuracy on test set: {acc}')\n",
        "  cm_score = conf_matr(y_test, y_pred)\n",
        "  print(f'Confusion Matrix:\\n{cm_score}')\n",
        "  print()"
      ],
      "execution_count": null,
      "outputs": [
        {
          "output_type": "stream",
          "text": [
            "SVM USING \"minkowski\" KERNEL\n",
            "Process Time: 0.04803344799984188\n",
            "Cross Validation score: 0.9371335885058641\n",
            "Accuracy on test set: 0.9393346379647749\n",
            "Confusion Matrix:\n",
            "True Negatives: 956; True Positives: 4;\n",
            "False Negatives: 46; False Positives: 16\n",
            "\n",
            "SVM USING \"minkowski\" KERNEL\n",
            "Process Time: 0.05656202899990603\n",
            "Cross Validation score: 0.9444718437362525\n",
            "Accuracy on test set: 0.9442270058708415\n",
            "Confusion Matrix:\n",
            "True Negatives: 963; True Positives: 2;\n",
            "False Negatives: 48; False Positives: 9\n",
            "\n",
            "SVM USING \"euclidean\" KERNEL\n",
            "Process Time: 0.04505509500017979\n",
            "Cross Validation score: 0.9371335885058641\n",
            "Accuracy on test set: 0.9393346379647749\n",
            "Confusion Matrix:\n",
            "True Negatives: 956; True Positives: 4;\n",
            "False Negatives: 46; False Positives: 16\n",
            "\n",
            "SVM USING \"euclidean\" KERNEL\n",
            "Process Time: 0.04978444800008219\n",
            "Cross Validation score: 0.9444718437362525\n",
            "Accuracy on test set: 0.9442270058708415\n",
            "Confusion Matrix:\n",
            "True Negatives: 963; True Positives: 2;\n",
            "False Negatives: 48; False Positives: 9\n",
            "\n",
            "SVM USING \"chebyshev\" KERNEL\n",
            "Process Time: 0.052384189999884256\n",
            "Cross Validation score: 0.9381115836158884\n",
            "Accuracy on test set: 0.9432485322896281\n",
            "Confusion Matrix:\n",
            "True Negatives: 959; True Positives: 5;\n",
            "False Negatives: 45; False Positives: 13\n",
            "\n",
            "SVM USING \"chebyshev\" KERNEL\n",
            "Process Time: 0.05069307000007939\n",
            "Cross Validation score: 0.9461848314993432\n",
            "Accuracy on test set: 0.9422700587084148\n",
            "Confusion Matrix:\n",
            "True Negatives: 961; True Positives: 2;\n",
            "False Negatives: 48; False Positives: 11\n",
            "\n"
          ],
          "name": "stdout"
        }
      ]
    },
    {
      "cell_type": "markdown",
      "metadata": {
        "id": "peZ88VMgDBoW"
      },
      "source": [
        "# Multi-Layer Perceptron"
      ]
    },
    {
      "cell_type": "markdown",
      "metadata": {
        "id": "ykGuDEYEDGvp"
      },
      "source": [
        "Define Hyperparameters"
      ]
    },
    {
      "cell_type": "code",
      "metadata": {
        "id": "ejhxVF1gDQKg"
      },
      "source": [
        "#hidden layers sizes\n",
        "#-100\n",
        "#-200\n",
        "#activation\n",
        "#-relu\n",
        "#-identity\n",
        "#solver\n",
        "#-adam\n",
        "#-sgd\n",
        "param_dict = {\n",
        "    1: [100, 'relu', 'adam'],\n",
        "    2: [100, 'identity', 'adam'],\n",
        "    3: [100, 'relu', 'sgd'],\n",
        "    4: [100, 'identity', 'sgd'],\n",
        "    5: [200, 'relu', 'adam'],\n",
        "    6: [200, 'identity', 'adam'],\n",
        "    7: [200, 'relu', 'sgd'],\n",
        "    8: [200, 'identity', 'sgd']\n",
        "}"
      ],
      "execution_count": null,
      "outputs": []
    },
    {
      "cell_type": "markdown",
      "metadata": {
        "id": "XpgzgEP6DONQ"
      },
      "source": [
        "Test Algorithm"
      ]
    },
    {
      "cell_type": "code",
      "metadata": {
        "id": "DQUTz0YpEs8k",
        "colab": {
          "base_uri": "https://localhost:8080/"
        },
        "outputId": "1fa25346-bacc-4573-d98d-c65aeb6faabf"
      },
      "source": [
        "mlp_times = np.empty(8)\n",
        "mlp_scores = np.empty(8)\n",
        "\n",
        "for param in param_dict:\n",
        "  #start process t0\n",
        "  t0 = time.process_time()\n",
        "  #create model\n",
        "  classifier = MLPClassifier(hidden_layer_sizes=param_dict.get(param)[0], activation=param_dict.get(param)[1], solver=param_dict.get(param)[2])\n",
        "  #fit model\n",
        "  classifier.fit(x_train, y_train_temp)\n",
        "  #use model to predict\n",
        "  y_pred = classifier.predict(x_test)\n",
        "  #end process timer\n",
        "  t1 = time.process_time()\n",
        "  #time taken to complete algorithm\n",
        "  total_time = t1 - t0\n",
        "  mlp_times[param-1] = round(total_time, 4)\n",
        "  #results\n",
        "  print(f'MLP USING \"{param_dict.get(param)[0]}\" HIDDEN LAYERS, \"{param_dict.get(param)[1]}\" activation, and \"{param_dict.get(param)[2]}\" solver.')\n",
        "  print(f'Process Time: {total_time}')\n",
        "  acc = accuracy_score(y_test_temp, y_pred)\n",
        "  mlp_scores[param-1] = round(acc*100,2)\n",
        "  print(f'Accuracy on test set: {acc}')\n",
        "  cm_score = conf_matr(y_test, y_pred)\n",
        "  print(f'Confusion Matrix:\\n{cm_score}')\n",
        "  print()"
      ],
      "execution_count": null,
      "outputs": [
        {
          "output_type": "stream",
          "text": [
            "MLP USING \"100\" HIDDEN LAYERS, \"relu\" activation, and \"adam\" solver.\n",
            "Process Time: 1.7255245519999995\n",
            "Accuracy on test set: 0.9452054794520548\n",
            "Confusion Matrix:\n",
            "True Negatives: 966; True Positives: 0;\n",
            "False Negatives: 56; False Positives: 0\n",
            "\n",
            "MLP USING \"100\" HIDDEN LAYERS, \"identity\" activation, and \"adam\" solver.\n",
            "Process Time: 2.6369615039999985\n",
            "Accuracy on test set: 0.9001956947162426\n",
            "Confusion Matrix:\n",
            "True Negatives: 897; True Positives: 23;\n",
            "False Negatives: 33; False Positives: 69\n",
            "\n",
            "MLP USING \"100\" HIDDEN LAYERS, \"relu\" activation, and \"sgd\" solver.\n",
            "Process Time: 1.1734871980000001\n",
            "Accuracy on test set: 0.9452054794520548\n",
            "Confusion Matrix:\n",
            "True Negatives: 966; True Positives: 0;\n",
            "False Negatives: 56; False Positives: 0\n",
            "\n",
            "MLP USING \"100\" HIDDEN LAYERS, \"identity\" activation, and \"sgd\" solver.\n",
            "Process Time: 0.6856534789999991\n",
            "Accuracy on test set: 0.9452054794520548\n",
            "Confusion Matrix:\n",
            "True Negatives: 966; True Positives: 0;\n",
            "False Negatives: 56; False Positives: 0\n",
            "\n",
            "MLP USING \"200\" HIDDEN LAYERS, \"relu\" activation, and \"adam\" solver.\n",
            "Process Time: 3.2621961640000023\n",
            "Accuracy on test set: 0.9452054794520548\n",
            "Confusion Matrix:\n",
            "True Negatives: 966; True Positives: 0;\n",
            "False Negatives: 56; False Positives: 0\n",
            "\n",
            "MLP USING \"200\" HIDDEN LAYERS, \"identity\" activation, and \"adam\" solver.\n",
            "Process Time: 4.274592262000002\n",
            "Accuracy on test set: 0.9452054794520548\n",
            "Confusion Matrix:\n",
            "True Negatives: 966; True Positives: 0;\n",
            "False Negatives: 56; False Positives: 0\n",
            "\n",
            "MLP USING \"200\" HIDDEN LAYERS, \"relu\" activation, and \"sgd\" solver.\n",
            "Process Time: 6.507805142999999\n",
            "Accuracy on test set: 0.9452054794520548\n",
            "Confusion Matrix:\n",
            "True Negatives: 966; True Positives: 0;\n",
            "False Negatives: 56; False Positives: 0\n",
            "\n",
            "MLP USING \"200\" HIDDEN LAYERS, \"identity\" activation, and \"sgd\" solver.\n",
            "Process Time: 2.044019651999996\n",
            "Accuracy on test set: 0.9452054794520548\n",
            "Confusion Matrix:\n",
            "True Negatives: 966; True Positives: 0;\n",
            "False Negatives: 56; False Positives: 0\n",
            "\n"
          ],
          "name": "stdout"
        }
      ]
    },
    {
      "cell_type": "markdown",
      "metadata": {
        "id": "HyGnRhXKi8er"
      },
      "source": [
        "# Results"
      ]
    },
    {
      "cell_type": "markdown",
      "metadata": {
        "id": "_igOhv32kbAo"
      },
      "source": [
        "Setup Visualization"
      ]
    },
    {
      "cell_type": "code",
      "metadata": {
        "id": "liB8kAsAjCel"
      },
      "source": [
        "#setup labels\n",
        "svm_labels = (\n",
        "              'SVM, Linear Kernel',\n",
        "              'SVM, Poly Kernel',\n",
        "              'SVM, RBF Kernel',\n",
        "              'SVM, Sigmoid Kernel'\n",
        ")\n",
        "knn_labels = (\n",
        "              'KNN, 3 neighbors, minkowski',\n",
        "              'KNN, 5 neighbors, minkowski',\n",
        "              'KNN, 3 neighbors, euclidean',\n",
        "              'KNN, 5 neighbors, euclidean',\n",
        "              'KNN, 3 neighbors, chebyshev',\n",
        "              'KNN, 5 neighbors, chebyshev'\n",
        ")\n",
        "mlp_labels = (\n",
        "    '100 hidden layers, relu activation, adam solver',\n",
        "    '100 hidden layers, identity activation, adam solver',\n",
        "    '100 hidden layers, relu activation, sgd solver',\n",
        "    '100 hidden layers, identity activation, sgd solver',\n",
        "    '200 hidden layers, relu activation, adam solver',\n",
        "    '200 hidden layers, identity activation, adam solver',\n",
        "    '200 hidden layers, relu activation, sgd solver',\n",
        "    '200 hidden layers, identity activation, sgd solver'\n",
        ")\n",
        "\n",
        "#determine position of each label on chart\n",
        "svm_pos = np.arange(len(svm_labels))\n",
        "knn_pos = np.arange(len(knn_labels))\n",
        "mlp_pos = np.arange(len(mlp_labels))"
      ],
      "execution_count": null,
      "outputs": []
    },
    {
      "cell_type": "markdown",
      "metadata": {
        "id": "wJc9uNqxkeYT"
      },
      "source": [
        "Visualize SVM scores"
      ]
    },
    {
      "cell_type": "code",
      "metadata": {
        "colab": {
          "base_uri": "https://localhost:8080/",
          "height": 312
        },
        "id": "mwFZzF0SkiaC",
        "outputId": "1428fbf1-360c-47b8-b57f-f3dcdff8b304"
      },
      "source": [
        "#setup chart\n",
        "fig, ax = plt.subplots()\n",
        "\n",
        "#chart scores\n",
        "ax.barh(svm_pos, svm_scores, 0.35, label='Algorithm')\n",
        "#display values on bars\n",
        "for i, val in enumerate(svm_scores):\n",
        "  plt.text(val, i, str(val))\n",
        "#set position of labels\n",
        "ax.set_yticks(svm_pos)\n",
        "#label each bar\n",
        "ax.set_yticklabels(svm_labels)\n",
        "#invert labels\n",
        "ax.invert_yaxis()\n",
        "#set x-axis label\n",
        "ax.set_xlabel('Accuracy Score (percentage)')\n",
        "#set y-axis label\n",
        "ax.set_ylabel('Algorithm')\n",
        "#set title of chart\n",
        "ax.set_title('Accuracy of SVM on Test Set')\n",
        "\n",
        "plt.show()"
      ],
      "execution_count": null,
      "outputs": [
        {
          "output_type": "stream",
          "text": [
            "[93.93 94.42 93.93 94.42 94.32 94.23]\n"
          ],
          "name": "stdout"
        },
        {
          "output_type": "display_data",
          "data": {
            "image/png": "[encoded data removed]",
            "text/plain": [
              "<Figure size 432x288 with 1 Axes>"
            ]
          },
          "metadata": {
            "tags": [],
            "needs_background": "light"
          }
        }
      ]
    },
    {
      "cell_type": "markdown",
      "metadata": {
        "id": "et7vMe3VlXM-"
      },
      "source": [
        "Visualize SVM process time"
      ]
    },
    {
      "cell_type": "code",
      "metadata": {
        "colab": {
          "base_uri": "https://localhost:8080/",
          "height": 295
        },
        "id": "Cjt0Rr_Sl5ub",
        "outputId": "04c8d2a7-ae7d-4cbb-a498-ec7ce383c593"
      },
      "source": [
        "#setup chart\n",
        "fig, ax = plt.subplots()\n",
        "\n",
        "#chart scores\n",
        "ax.barh(svm_pos, svm_times)\n",
        "#display values on bars\n",
        "for i, val in enumerate(svm_times):\n",
        "  plt.text(val, i, str(val))\n",
        "#set position of labels\n",
        "ax.set_yticks(svm_pos)\n",
        "#label each bar\n",
        "ax.set_yticklabels(svm_labels)\n",
        "#invert labels\n",
        "ax.invert_yaxis()\n",
        "#set x-axis label\n",
        "ax.set_xlabel('Process Time')\n",
        "#set y-axis label\n",
        "ax.set_ylabel('Algorithm')\n",
        "#set title of chart\n",
        "ax.set_title('Process Time of SVM')\n",
        "\n",
        "plt.show()"
      ],
      "execution_count": null,
      "outputs": [
        {
          "output_type": "display_data",
          "data": {
            "image/png": "[encoded data removed]",
            "text/plain": [
              "<Figure size 432x288 with 1 Axes>"
            ]
          },
          "metadata": {
            "tags": [],
            "needs_background": "light"
          }
        }
      ]
    },
    {
      "cell_type": "markdown",
      "metadata": {
        "id": "VRvGdArwl6RQ"
      },
      "source": [
        "Visualize KNN scores"
      ]
    },
    {
      "cell_type": "code",
      "metadata": {
        "colab": {
          "base_uri": "https://localhost:8080/",
          "height": 295
        },
        "id": "XQxFI2GJl6pq",
        "outputId": "4e18842f-b584-4e79-e4fe-dd8d24572992"
      },
      "source": [
        "#setup chart\n",
        "fig, ax = plt.subplots()\n",
        "\n",
        "#chart scores\n",
        "ax.barh(knn_pos, knn_scores)\n",
        "#display values on bars\n",
        "for i, val in enumerate(knn_scores):\n",
        "  plt.text(val, i, str(val))\n",
        "#set position of labels\n",
        "ax.set_yticks(knn_pos)\n",
        "#label each bar\n",
        "ax.set_yticklabels(knn_labels)\n",
        "#invert labels\n",
        "ax.invert_yaxis()\n",
        "#set x-axis label\n",
        "ax.set_xlabel('Accuracy Score (percentage)')\n",
        "#set y-axis label\n",
        "ax.set_ylabel('Algorithm')\n",
        "#set title of chart\n",
        "ax.set_title('Accuracy of KNN on Test Set')\n",
        "\n",
        "plt.show()"
      ],
      "execution_count": null,
      "outputs": [
        {
          "output_type": "display_data",
          "data": {
            "image/png": "[encoded data removed]",
            "text/plain": [
              "<Figure size 432x288 with 1 Axes>"
            ]
          },
          "metadata": {
            "tags": [],
            "needs_background": "light"
          }
        }
      ]
    },
    {
      "cell_type": "markdown",
      "metadata": {
        "id": "2AeV4oFZl6-d"
      },
      "source": [
        "Visualize KNN process time"
      ]
    },
    {
      "cell_type": "code",
      "metadata": {
        "colab": {
          "base_uri": "https://localhost:8080/",
          "height": 295
        },
        "id": "fKBr6AvHl7OS",
        "outputId": "657c5040-78f5-4df8-a39c-9c1c00944d34"
      },
      "source": [
        "#setup chart\n",
        "fig, ax = plt.subplots()\n",
        "\n",
        "#chart scores\n",
        "ax.barh(knn_pos, knn_times)\n",
        "#display values on bars\n",
        "for i, val in enumerate(knn_times):\n",
        "  plt.text(val, i, str(val))\n",
        "#set position of labels\n",
        "ax.set_yticks(knn_pos)\n",
        "#label each bar\n",
        "ax.set_yticklabels(knn_labels)\n",
        "#invert labels\n",
        "ax.invert_yaxis()\n",
        "#set x-axis label\n",
        "ax.set_xlabel('Process Time')\n",
        "#set y-axis label\n",
        "ax.set_ylabel('Algorithm')\n",
        "#set title of chart\n",
        "ax.set_title('Process Time of KNN')\n",
        "\n",
        "plt.show()"
      ],
      "execution_count": null,
      "outputs": [
        {
          "output_type": "display_data",
          "data": {
            "image/png": "[encoded data removed]",
            "text/plain": [
              "<Figure size 432x288 with 1 Axes>"
            ]
          },
          "metadata": {
            "tags": [],
            "needs_background": "light"
          }
        }
      ]
    },
    {
      "cell_type": "markdown",
      "metadata": {
        "id": "JFxiJNPmKLga"
      },
      "source": [
        "Visualize MLP scores"
      ]
    },
    {
      "cell_type": "code",
      "metadata": {
        "colab": {
          "base_uri": "https://localhost:8080/",
          "height": 295
        },
        "id": "fQphgMAYKOid",
        "outputId": "fe638a5c-2753-4e7d-9bfb-73c18b90f006"
      },
      "source": [
        "#setup chart\n",
        "fig, ax = plt.subplots()\n",
        "\n",
        "#chart scores\n",
        "ax.barh(mlp_pos, mlp_scores)\n",
        "#display values on bars\n",
        "for i, val in enumerate(mlp_scores):\n",
        "  plt.text(val, i, str(val))\n",
        "#set position of labels\n",
        "ax.set_yticks(mlp_pos)\n",
        "#label each bar\n",
        "ax.set_yticklabels(mlp_labels)\n",
        "#invert labels\n",
        "ax.invert_yaxis()\n",
        "#set x-axis label\n",
        "ax.set_xlabel('Accuracy Score (percentage)')\n",
        "#set y-axis label\n",
        "ax.set_ylabel('Algorithm')\n",
        "#set title of chart\n",
        "ax.set_title('Accuracy of MLP on Test Set')\n",
        "\n",
        "plt.show()"
      ],
      "execution_count": null,
      "outputs": [
        {
          "output_type": "display_data",
          "data": {
            "image/png": "[encoded data removed]",
            "text/plain": [
              "<Figure size 432x288 with 1 Axes>"
            ]
          },
          "metadata": {
            "tags": [],
            "needs_background": "light"
          }
        }
      ]
    },
    {
      "cell_type": "markdown",
      "metadata": {
        "id": "7MjWhpclLB69"
      },
      "source": [
        "Visualzie MLP Process Times"
      ]
    },
    {
      "cell_type": "code",
      "metadata": {
        "colab": {
          "base_uri": "https://localhost:8080/",
          "height": 295
        },
        "id": "ygeGOcf2LD-M",
        "outputId": "91431cb8-bb65-43b4-913c-4f00cc04edef"
      },
      "source": [
        "#setup chart\n",
        "fig, ax = plt.subplots()\n",
        "\n",
        "#chart scores\n",
        "ax.barh(mlp_pos, mlp_times)\n",
        "#display values on bars\n",
        "for i, val in enumerate(mlp_times):\n",
        "  plt.text(val, i, str(val))\n",
        "#set position of labels\n",
        "ax.set_yticks(mlp_pos)\n",
        "#label each bar\n",
        "ax.set_yticklabels(mlp_labels)\n",
        "#invert labels\n",
        "ax.invert_yaxis()\n",
        "#set x-axis label\n",
        "ax.set_xlabel('Process Time')\n",
        "#set y-axis label\n",
        "ax.set_ylabel('Algorithm')\n",
        "#set title of chart\n",
        "ax.set_title('Process Time of MLP')\n",
        "\n",
        "plt.show()"
      ],
      "execution_count": null,
      "outputs": [
        {
          "output_type": "display_data",
          "data": {
            "image/png": "[encoded data removed]",
            "text/plain": [
              "<Figure size 432x288 with 1 Axes>"
            ]
          },
          "metadata": {
            "tags": [],
            "needs_background": "light"
          }
        }
      ]
    }
  ]
}